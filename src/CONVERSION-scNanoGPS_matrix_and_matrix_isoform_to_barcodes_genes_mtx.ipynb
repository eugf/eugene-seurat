{
 "cells": [
  {
   "cell_type": "markdown",
   "metadata": {},
   "source": [
    "STARTED:      10/4/24\n",
    "\n",
    "LAST UPDATED: 1/6/25\n",
    "\n",
    "By Eugene Fong\n",
    "\n",
    "# #* TODO - add log?\n",
    "\n",
    "# GOAL(S)\n",
    "\n",
    "- Convert the outputs from scNanoGPS into a matrix file format that'll be accepted into Seurat\n",
    "\n",
    "- Input files needed:\n",
    "  - matrix.tsv\n",
    "  - matrix_isoform.tsv\n",
    "\n",
    "- Output files created:\n",
    "  - barcodes.tsv\n",
    "  - genes.tsv\n",
    "  - matrix.mtx --> in sparse matrix format"
   ]
  },
  {
   "cell_type": "code",
   "execution_count": null,
   "metadata": {},
   "outputs": [],
   "source": [
    "# # HOW TO RUN (for converting to a merged matrix + matrix_isoform file)\n",
    "# # - Open a terminal where this script file is and run:\n",
    "# module load python/3.10\n",
    "# python CONVERSION-scNanoGPS_matrix_and_matrix_isoform_to_barcodes_genes_mtx-argparse.py --input_path <INPUT_PATH> --output_path <OUTPUT_PATH>"
   ]
  },
  {
   "cell_type": "markdown",
   "metadata": {},
   "source": [
    "# IMPORTS"
   ]
  },
  {
   "cell_type": "code",
   "execution_count": 1,
   "metadata": {},
   "outputs": [],
   "source": [
    "import pandas as pd\n",
    "import os\n",
    "import numpy as np\n",
    "from scipy import sparse\n",
    "from scipy.io import mmwrite\n",
    "import re\n",
    "import datetime"
   ]
  },
  {
   "cell_type": "markdown",
   "metadata": {},
   "source": [
    "# LOAD DATA\n",
    "\n",
    "See `/scNanoGPS_res` folder for a list of processed sample outputs at:\n",
    "\n",
    "```\n",
    "    /data/CARDPB/data/snRNA_longread/scNanoGPS-neuro/scNanoGPS_res\n",
    "```"
   ]
  },
  {
   "cell_type": "code",
   "execution_count": null,
   "metadata": {},
   "outputs": [],
   "source": [
    "# DEFINE FILE PATHS - CHANGE THIS!!!\n",
    "# Input paths - look inside the scNanoGPS output folder (`/scNanoGPS_res`) by patient ID until you reach the parent folder that holds the matrix.tsv + matrix_isoform.tsv files\n",
    "# scNanoGPS_output_dir = ''\n",
    "\n",
    "# From there, append the paths for the matrix files\n",
    "file_path_matrix            = os.path.join(scNanoGPS_output_dir, 'matrix.tsv')\n",
    "file_path_matrix_isoform    = os.path.join(scNanoGPS_output_dir, 'matrix_isoform.tsv')\n",
    "\n",
    "# CHECK\n",
    "print('scNanoGPS_output_dir     =', scNanoGPS_output_dir)\n",
    "print('file_path_matrix         =', file_path_matrix)\n",
    "print('file_path_matrix_isoform =', file_path_matrix_isoform)"
   ]
  },
  {
   "cell_type": "code",
   "execution_count": null,
   "metadata": {},
   "outputs": [],
   "source": [
    "# Output dir\n",
    "output_dir = '/data/CARDPB/data/snRNA_longread/eugene-seurat/output/long_reads'\n",
    "print('output_dir =', output_dir)"
   ]
  },
  {
   "cell_type": "code",
   "execution_count": null,
   "metadata": {},
   "outputs": [],
   "source": [
    "# Extract the patient ID\n",
    "id = os.path.basename(os.path.dirname(os.path.dirname(scNanoGPS_output_dir)))\n",
    "print('id =', id)\n",
    "\n",
    "# ALT - better way\n",
    "separators = ['_FTX_singlecell', '_singlecell']\n",
    "split_id = re.split('|'.join(separators), id)[0]\n",
    "\n",
    "# CHECK\n",
    "print('split_id =', split_id)"
   ]
  },
  {
   "cell_type": "code",
   "execution_count": null,
   "metadata": {},
   "outputs": [],
   "source": [
    "# Get today's date\n",
    "current_date = datetime.date.today()\n",
    "print('current_date =', current_date)\n",
    "\n",
    "formatted_date = current_date.strftime(\"%Y%m%d\")\n",
    "print('formatted_date =', formatted_date)"
   ]
  },
  {
   "cell_type": "code",
   "execution_count": null,
   "metadata": {},
   "outputs": [],
   "source": [
    "# Create unique output folders based on the patient ID and date\n",
    "sample_dir = os.path.join(output_dir, split_id, formatted_date)\n",
    "print('sample_dir =', sample_dir)\n",
    "\n",
    "# Start a counter for repeated folders\n",
    "counter = 0\n",
    "   \n",
    "# CHECK - if the path exists already, adjust name as needed\n",
    "if os.path.exists(sample_dir):\n",
    "    print(f\"The directory '{sample_dir}' exists.\")\n",
    "    new_sample_dir = sample_dir + '-' + str(counter)\n",
    "    \n",
    "    # Increment on the date folder\n",
    "    while os.path.exists(new_sample_dir):\n",
    "        counter += 1\n",
    "        print('counter =', counter)\n",
    "        new_sample_dir = sample_dir + '-' + str(counter)\n",
    "        print('new_sample_dir INSIDE IF BLOCK =', new_sample_dir)\n",
    "    \n",
    "    # Reset this variable to call later\n",
    "    sample_dir = new_sample_dir\n",
    "\n",
    "else:\n",
    "    print(f\"Sample directory '{sample_dir}' does not exist\")\n",
    "\n",
    "# Make the new directory \n",
    "os.makedirs(sample_dir)"
   ]
  },
  {
   "cell_type": "code",
   "execution_count": 7,
   "metadata": {},
   "outputs": [],
   "source": [
    "# # TEST\n",
    "# # Turn the make directory checker into a func\n",
    "# def mkdir_checker(output_dir):\n",
    "    \n",
    "#     # Create unique output folders based on the patient ID and date\n",
    "#     global sample_dir\n",
    "#     sample_dir = os.path.join(output_dir, split_id, formatted_date)\n",
    "#     print('sample_dir =', sample_dir)\n",
    "\n",
    "#     # Start a counter for repeated folders\n",
    "#     counter = 0\n",
    "    \n",
    "#     # CHECK - if the path link exists as text, adjust name as needed\n",
    "#     if os.path.exists(sample_dir):\n",
    "#         print(f\"The directory '{sample_dir}' exists.\")\n",
    "#         new_sample_dir = sample_dir + '-' + str(counter)\n",
    "        \n",
    "#         # Increment on the date folder\n",
    "#         while os.path.exists(new_sample_dir):\n",
    "#             counter += 1\n",
    "#             print('counter =', counter)\n",
    "#             new_sample_dir = sample_dir + '-' + str(counter)\n",
    "#             print('new_sample_dir INSIDE IF BLOCK =', new_sample_dir)\n",
    "        \n",
    "#         # Reset this variable to call later\n",
    "#         sample_dir = new_sample_dir\n",
    "\n",
    "#     else:\n",
    "#         print(f\"The directory '{sample_dir}' does not exist.\")\n",
    "\n",
    "#     # Make the new directory \n",
    "#     os.makedirs(sample_dir)\n",
    "\n",
    "# # RUN - func\n",
    "# mkdir_checker(output_dir)"
   ]
  },
  {
   "cell_type": "code",
   "execution_count": null,
   "metadata": {},
   "outputs": [],
   "source": [
    "# Save full ID to text file (will process this way downstream)\n",
    "output_id_txt = os.path.join(sample_dir, 'id.txt')\n",
    "\n",
    "# Open file to write and save ID\n",
    "with open(output_id_txt, 'w+') as file:\n",
    "    file.write(id)\n",
    "\n",
    "print(f'ID written to: {output_id_txt}')"
   ]
  },
  {
   "cell_type": "markdown",
   "metadata": {},
   "source": [
    "# ~~~~~~~~~~~~~~~~~~~~~~~~~~~~~~~~~~~~~~~~~~~~~~\n",
    "# MATRIX FILE\n",
    "# ~~~~~~~~~~~~~~~~~~~~~~~~~~~~~~~~~~~~~~~~~~~~~~"
   ]
  },
  {
   "cell_type": "code",
   "execution_count": null,
   "metadata": {},
   "outputs": [],
   "source": [
    "# LOAD - matrix file into a Pandas DF\n",
    "df = pd.read_csv(\n",
    "    file_path_matrix, \n",
    "    sep = '\\t',     # For TSV file\n",
    "    skiprows = 0,   # 1st row is metadata, skip it (index = 0)\n",
    "    header = 1      # Header begins on the 2nd row (index = 1)\n",
    "    )\n",
    "\n",
    "df"
   ]
  },
  {
   "cell_type": "code",
   "execution_count": null,
   "metadata": {},
   "outputs": [],
   "source": [
    "# CHECK\n",
    "print('df.shape =', df.shape)"
   ]
  },
  {
   "cell_type": "code",
   "execution_count": 11,
   "metadata": {},
   "outputs": [],
   "source": [
    "# #* TODO - HANDLING METADATA???\n",
    "\n",
    "# # Assuming your first three columns are: cell_id, sample, isoform_id\n",
    "# seurat_obj@meta.data[, c(\"cell_id\", \"sample\")] <- isoform_data[1:2]\n",
    "\n",
    "# # Add any additional metadata columns\n",
    "# seurat_obj@meta.data$condition <- isoform_data[3]"
   ]
  },
  {
   "cell_type": "markdown",
   "metadata": {},
   "source": [
    "# CONVERSIONS\n",
    "\n",
    "### Create the `genes.tsv` file \n",
    "\n",
    "- Drop the first 2 rows (already done during import)\n",
    "- Extract 2 columns ONLY: \n",
    "  - Geneid (ENSEMBLE ID #s) and\n",
    "  - gene_name"
   ]
  },
  {
   "cell_type": "code",
   "execution_count": null,
   "metadata": {},
   "outputs": [],
   "source": [
    "# Select your desired cols\n",
    "df_gene_id_and_gene_name = df[['Geneid', 'gene_name']]\n",
    "df_gene_id_and_gene_name"
   ]
  },
  {
   "cell_type": "markdown",
   "metadata": {},
   "source": [
    "### EXPORT - `genes.tsv`"
   ]
  },
  {
   "cell_type": "code",
   "execution_count": null,
   "metadata": {},
   "outputs": [],
   "source": [
    "# Define output path\n",
    "file_path_genes_tsv = os.path.join(sample_dir, 'genes.tsv')\n",
    "\n",
    "# Save file as `genes.tsv`\n",
    "df_gene_id_and_gene_name.to_csv(\n",
    "    file_path_genes_tsv, \n",
    "    sep = '\\t',         # For TSV file\n",
    "    index = False,      # Remove index col???\n",
    "    header = False,     # Remove header row???\n",
    "    )\n",
    "\n",
    "print(f'Saved genes.tsv to: {file_path_genes_tsv}')"
   ]
  },
  {
   "cell_type": "markdown",
   "metadata": {},
   "source": [
    "### Create the `barcodes.tsv` file\n",
    "\n",
    "- Load just the 2nd row of the original `matrix.tsv` file (which is now the header row)\n",
    "- Extract all the barcodes, drop the other columns"
   ]
  },
  {
   "cell_type": "code",
   "execution_count": null,
   "metadata": {},
   "outputs": [],
   "source": [
    "# RELOAD - matrix file into a Pandas DF\n",
    "df_header = pd.read_csv(\n",
    "    file_path_matrix, \n",
    "    sep = '\\t',     # For TSV file\n",
    "    skiprows = 1,   # 1st row is metadata, skip it (index = 0)\n",
    "    nrows = 1,      # Only load the next 1 row (the header row)\n",
    "    header = None,  # Prevents Pandas defaulting to header = True\n",
    "    )\n",
    "\n",
    "df_header"
   ]
  },
  {
   "cell_type": "code",
   "execution_count": null,
   "metadata": {},
   "outputs": [],
   "source": [
    "# Converts to a 1D series\n",
    "header_series = df_header.squeeze()\n",
    "header_series.head(10)"
   ]
  },
  {
   "cell_type": "code",
   "execution_count": null,
   "metadata": {},
   "outputs": [],
   "source": [
    "# Remove the initial columns from the header, keep the barcodes ONLY\n",
    "header_series_subset = header_series[7:]\n",
    "header_series_subset"
   ]
  },
  {
   "cell_type": "code",
   "execution_count": null,
   "metadata": {},
   "outputs": [],
   "source": [
    "# Change the formatting to match examples and our data\n",
    "#* NOTE - add the donor ID at a later step in Seurat instead of here\n",
    "header_series_subset_mod = header_series_subset + '-1'\n",
    "header_series_subset_mod"
   ]
  },
  {
   "cell_type": "markdown",
   "metadata": {},
   "source": [
    "### EXPORT - `barcodes.tsv`"
   ]
  },
  {
   "cell_type": "code",
   "execution_count": null,
   "metadata": {},
   "outputs": [],
   "source": [
    "# Define output path\n",
    "file_path_barcodes_tsv = os.path.join(sample_dir, 'barcodes.tsv')\n",
    "\n",
    "# Save file as `barcodes.tsv`\n",
    "header_series_subset_mod.to_csv(\n",
    "    file_path_barcodes_tsv, \n",
    "    sep = '\\t',         # For TSV file\n",
    "    index = False,      # No index col???\n",
    "    header = False,     # Prevents Pandas defaulting to header = True\n",
    "    )\n",
    "\n",
    "print(f'Saved barcodes.tsv to: {file_path_barcodes_tsv}')"
   ]
  },
  {
   "cell_type": "markdown",
   "metadata": {},
   "source": [
    "### Create the `matrix.mtx` file\n",
    "\n",
    "- RELOAD `matrix.tsv` as a DF, \n",
    "- Get rid of cols from `chr` to `gene_name`, just keep `geneid` and then all the counts cols, \n",
    "- then convert to a sparse matrix format (needs matrix library to convert to DCG matrix)"
   ]
  },
  {
   "cell_type": "code",
   "execution_count": null,
   "metadata": {},
   "outputs": [],
   "source": [
    "# RELOAD - matrix file into a Pandas DF (but this time get rid of the header)\n",
    "df_full = pd.read_csv(\n",
    "    file_path_matrix, \n",
    "    sep = '\\t',         # For TSV file\n",
    "    skiprows = [0,1],   # 1st row is metadata, 2nd is header, skip BOTH (index = 0,1),\n",
    "    header = None,      # Prevents Pandas defaulting to header = True\n",
    "    )\n",
    "\n",
    "# CHECK - it shouldn't have words in the \"header\" but just #'s\n",
    "df_full.head()"
   ]
  },
  {
   "cell_type": "code",
   "execution_count": null,
   "metadata": {},
   "outputs": [],
   "source": [
    "# CHECK\n",
    "df_full.tail()"
   ]
  },
  {
   "cell_type": "code",
   "execution_count": null,
   "metadata": {},
   "outputs": [],
   "source": [
    "# CHECK - using the earlier DF with header names 1st\n",
    "cols_to_drop = df.columns[00:7]\n",
    "print('cols_to_drop =', cols_to_drop)\n",
    "\n",
    "# Now using the \"full\" DF, define the corresponding col's we want to drop\n",
    "cols_to_drop = df_full.columns[00:7]\n",
    "print('cols_to_drop =', cols_to_drop)"
   ]
  },
  {
   "cell_type": "code",
   "execution_count": null,
   "metadata": {},
   "outputs": [],
   "source": [
    "# APPLY - Drop to those cols in the full DF\n",
    "df_full_drop = df_full.drop(cols_to_drop, axis = 1)\n",
    "df_full_drop.head()"
   ]
  },
  {
   "cell_type": "code",
   "execution_count": null,
   "metadata": {},
   "outputs": [],
   "source": [
    "# CHECK - before and after\n",
    "df.info()"
   ]
  },
  {
   "cell_type": "code",
   "execution_count": null,
   "metadata": {},
   "outputs": [],
   "source": [
    "# CHECK - dtypes should all be #;s\n",
    "df_full_drop.info()"
   ]
  },
  {
   "cell_type": "markdown",
   "metadata": {},
   "source": [
    "### EXPORT - CHECK - processed DF to `matrix_dropped.tsv` file "
   ]
  },
  {
   "cell_type": "code",
   "execution_count": null,
   "metadata": {},
   "outputs": [],
   "source": [
    "# Define output path\n",
    "file_path_matrix_dropped_tsv = os.path.join(sample_dir, 'matrix_dropped.tsv')\n",
    "\n",
    "# Save file as `matrix_dropped.tsv`\n",
    "df_full_drop.to_csv(\n",
    "    file_path_matrix_dropped_tsv, \n",
    "    sep = '\\t', \n",
    "    index = False, \n",
    "    header = False,\n",
    "    )\n",
    "\n",
    "print(f'Saved matrix_dropped.tsv to: {file_path_matrix_dropped_tsv}')"
   ]
  },
  {
   "cell_type": "markdown",
   "metadata": {},
   "source": [
    "### CONVERSION - function to convert the .TSV file into a sparse matrix .MTX file\n",
    "\n",
    "NOTES:\n",
    "- having non-numerical data types causes an ERROR... what to do about the header and index?\n",
    "- prolly drop them for the matrix file since its in `barcodes.tsv` and `genes.tsv`"
   ]
  },
  {
   "cell_type": "code",
   "execution_count": 26,
   "metadata": {},
   "outputs": [],
   "source": [
    "def tsv_to_mtx(input_file, output_file):\n",
    "    \n",
    "    # Read the TSV file\n",
    "    df = pd.read_csv(\n",
    "        input_file, \n",
    "        sep = '\\t',         # For TSV file\n",
    "        index_col = None,   # No index col???\n",
    "        header = None,      # Prevents Pandas defaulting to header = True\n",
    "        )\n",
    "    \n",
    "    # CONVERT - DF to numpy array\n",
    "    data = df.to_numpy()\n",
    "    \n",
    "    # CONVERT - numpy array to sparse matrix\n",
    "    sparse_matrix = sparse.csr_matrix(data)\n",
    "    \n",
    "    # EXPORT - save the sparse matrix to a .mtx file\n",
    "    mmwrite(output_file, sparse_matrix)\n",
    "    \n",
    "    # CHECK - saved output file to\n",
    "    print(f'Saved matrix.mtx file to: {output_file}')"
   ]
  },
  {
   "cell_type": "markdown",
   "metadata": {},
   "source": [
    "### EXPORT - `matrix.mtx` file as a sparse matrix"
   ]
  },
  {
   "cell_type": "code",
   "execution_count": null,
   "metadata": {},
   "outputs": [],
   "source": [
    "# Define output path\n",
    "output_file = os.path.join(sample_dir, 'matrix.mtx')\n",
    "\n",
    "# Run conversion function\n",
    "tsv_to_mtx(file_path_matrix_dropped_tsv, output_file)"
   ]
  },
  {
   "cell_type": "markdown",
   "metadata": {},
   "source": [
    "# ~~~~~~~~~~~~~~~~~~~~~~~~~~~~~~~~~~~~~~~~~~~~~~\n",
    "# MATRIX ISOFORM FILE\n",
    "# ~~~~~~~~~~~~~~~~~~~~~~~~~~~~~~~~~~~~~~~~~~~~~~"
   ]
  },
  {
   "cell_type": "markdown",
   "metadata": {},
   "source": [
    "# LOAD DATA"
   ]
  },
  {
   "cell_type": "code",
   "execution_count": null,
   "metadata": {},
   "outputs": [],
   "source": [
    "# DEFINE FILE PATHS\n",
    "# Output dir - new isoform folder inside the sample directory\n",
    "output_isoform_dir = os.path.join(sample_dir, 'isoform')\n",
    "\n",
    "# Make the new directory \n",
    "os.makedirs(output_isoform_dir)\n",
    "\n",
    "# CHECK\n",
    "print('output_isoform_dir =', output_isoform_dir)"
   ]
  },
  {
   "cell_type": "code",
   "execution_count": null,
   "metadata": {},
   "outputs": [],
   "source": [
    "# LOAD - matrix isoform file into a Pandas DF\n",
    "df_isoform = pd.read_csv(\n",
    "    file_path_matrix_isoform, \n",
    "    sep = '\\t',     # For TSV file\n",
    "    )\n",
    "\n",
    "df_isoform"
   ]
  },
  {
   "cell_type": "code",
   "execution_count": null,
   "metadata": {},
   "outputs": [],
   "source": [
    "# CHECK - # of unique rows (might be ALL of them for isoforms)\n",
    "len(df_isoform['Unnamed: 0'].unique())"
   ]
  },
  {
   "cell_type": "markdown",
   "metadata": {},
   "source": [
    "### NOTES\n",
    "\n",
    "Cols are:\n",
    "\n",
    "- `Geneid` (ENS #)\n",
    "- MISSING `gene_name`, which should be derived from the isoform's parent?\n",
    "- The rest are barcodes\n",
    "- NO index col\n",
    "\n",
    "Rows:\n",
    "\n",
    "- Header row"
   ]
  },
  {
   "cell_type": "code",
   "execution_count": null,
   "metadata": {},
   "outputs": [],
   "source": [
    "# # CHECK\n",
    "# df_isoform['CATTATCTCGCACACA'].unique()\n",
    "\n",
    "test = df_isoform.iloc[:, 2].unique()\n",
    "test"
   ]
  },
  {
   "cell_type": "code",
   "execution_count": null,
   "metadata": {},
   "outputs": [],
   "source": [
    "# CHECK\n",
    "type(test)"
   ]
  },
  {
   "cell_type": "code",
   "execution_count": null,
   "metadata": {},
   "outputs": [],
   "source": [
    "df_isoform.iloc[:,2].info()"
   ]
  },
  {
   "cell_type": "markdown",
   "metadata": {},
   "source": [
    "# CONVERSION\n",
    "\n",
    "### Create the `genes.tsv` file \n",
    "\n",
    "- Rename col 1 (currently unnamed)\n",
    "- Extract 2 columns: \n",
    "  - `Geneid` (Ensemble #s)  \n",
    "  - `gene_name` --> MISSING! need to create! but how???\n",
    "- Drop the 1st row (header row)"
   ]
  },
  {
   "cell_type": "code",
   "execution_count": null,
   "metadata": {},
   "outputs": [],
   "source": [
    "# RENAME - missing header col\n",
    "df_isoform = df_isoform.rename(columns = {'Unnamed: 0': 'Geneid'})\n",
    "df_isoform.head()"
   ]
  },
  {
   "cell_type": "code",
   "execution_count": null,
   "metadata": {},
   "outputs": [],
   "source": [
    "# CHECK - length before splitting the col names\n",
    "pre_split = len(df_isoform['Geneid'].unique())\n",
    "print('pre_split =', pre_split)"
   ]
  },
  {
   "cell_type": "markdown",
   "metadata": {},
   "source": [
    "### EXPORT - CHECK"
   ]
  },
  {
   "cell_type": "code",
   "execution_count": 36,
   "metadata": {},
   "outputs": [],
   "source": [
    "# EXPORT - the file before splitting the col names\n",
    "df_isoform.to_csv(\n",
    "    os.path.join(output_isoform_dir, 'isoform_before_splitting.tsv'), \n",
    "    sep = '\\t', \n",
    "    index = False, \n",
    "    header = True\n",
    "    )"
   ]
  },
  {
   "cell_type": "markdown",
   "metadata": {},
   "source": [
    "### #? Q) Do I need to rebuild the `gene_name` col?\n",
    "\n",
    "### #? A) will error w/o it\n",
    "\n",
    "### -- OR --\n",
    "\n",
    "### leave it alone, give the col a name, assign Seurat to use col 1 instead\n",
    "\n",
    "NOTES: This col's format:\n",
    "\n",
    "- <gene_name>_ENSEMBLE###.#\n",
    "\n",
    "#? Q) Do I keep the original name? \n",
    "\n",
    "#* A) Tried keeping the original name, but plotting the counts in Seurat was weird\n",
    "\n",
    "#* NEXT - try splitting the `gene_name` off col 1, only keep the `Geneid` (Ensemble #)"
   ]
  },
  {
   "cell_type": "code",
   "execution_count": null,
   "metadata": {},
   "outputs": [],
   "source": [
    "# Split the `Geneid` column on '_ENST' then add back 'ENST'\n",
    "\n",
    "# Keep the 0th element to create a new `gene_name` column\n",
    "df_isoform['gene_name'] = df_isoform['Geneid'].str.split('_ENST').str[0]\n",
    "\n",
    "# Rename the `Geneid` col using the 1st element of the split and prepending it with 'ENST' to restore the lost characters from the split\n",
    "df_isoform['Geneid'] = 'ENST' + df_isoform['Geneid'].str.split('_ENST').str[1]\n",
    "\n",
    "# CHECK\n",
    "df_isoform"
   ]
  },
  {
   "cell_type": "code",
   "execution_count": null,
   "metadata": {},
   "outputs": [],
   "source": [
    "# CHECK\n",
    "post_split = len(df_isoform['Geneid'].unique())\n",
    "print('post_split =', post_split)\n",
    "\n",
    "# HALT SCRIPT IF FAILED\n",
    "assert pre_split == post_split, \"ERROR! values lost!\""
   ]
  },
  {
   "cell_type": "code",
   "execution_count": null,
   "metadata": {},
   "outputs": [],
   "source": [
    "# Select your desired cols\n",
    "df_isoform_gene_id_and_gene_name = df_isoform[['Geneid', 'gene_name']]\n",
    "df_isoform_gene_id_and_gene_name"
   ]
  },
  {
   "cell_type": "markdown",
   "metadata": {},
   "source": [
    "### CHECKS"
   ]
  },
  {
   "cell_type": "code",
   "execution_count": null,
   "metadata": {},
   "outputs": [],
   "source": [
    "# CHECK - the # of rows match\n",
    "num_rows_df_isoform = len(df_isoform)\n",
    "print('num_rows_df_isoform =', num_rows_df_isoform)\n",
    "\n",
    "num_rows_df_isoform_gene_id_and_gene_name = len(df_isoform_gene_id_and_gene_name)\n",
    "print('num_rows_df_isoform_gene_id_and_gene_name =', num_rows_df_isoform_gene_id_and_gene_name)\n",
    "\n",
    "assert num_rows_df_isoform == num_rows_df_isoform_gene_id_and_gene_name, \"WARNING! # of rows in original DF and split col DF do NOT match\""
   ]
  },
  {
   "cell_type": "code",
   "execution_count": null,
   "metadata": {},
   "outputs": [],
   "source": [
    "# CHECK - for dupes in the Geneid column only\n",
    "duplicates = df_isoform['Geneid'].duplicated(keep=False)  # keep=False marks all duplicates as True\n",
    "print(\"Unique values of dupes in Geneid col check = \", duplicates.unique())\n",
    "\n",
    "# COUNT - T/F values\n",
    "counts = duplicates.value_counts()\n",
    "print(\"Counts of T/F in duplicates:\")\n",
    "print(counts)"
   ]
  },
  {
   "cell_type": "code",
   "execution_count": null,
   "metadata": {},
   "outputs": [],
   "source": [
    "# CHECK - Show duplicate values\n",
    "duplicate_values = df_isoform['Geneid'][duplicates]\n",
    "print(\"Duplicate values in the Geneid column: \\n\", duplicate_values)"
   ]
  },
  {
   "cell_type": "code",
   "execution_count": 43,
   "metadata": {},
   "outputs": [],
   "source": [
    "# EXPORT - as text so i can read the whole thing\n",
    "duplicate_values.to_csv(\n",
    "    os.path.join(output_isoform_dir, 'df_isoform_duplicate_values.tsv'), \n",
    "    sep = '\\t',     # For TSV file\n",
    "    )"
   ]
  },
  {
   "cell_type": "markdown",
   "metadata": {},
   "source": [
    "### CHECK"
   ]
  },
  {
   "cell_type": "code",
   "execution_count": 44,
   "metadata": {},
   "outputs": [],
   "source": [
    "# # LOAD - isoform_var_features.tsv exported from the scNanoGPS Seurat object\n",
    "# df_isoform_var_features = pd.read_csv(\n",
    "#     \"/home/fonge2/scNanoGPS/eugene-seurat/output/TEST/isoform/isoform_var_features.tsv\", \n",
    "#     sep = '\\t',     # For TSV file\n",
    "# )\n",
    "# df_isoform_var_features"
   ]
  },
  {
   "cell_type": "code",
   "execution_count": 45,
   "metadata": {},
   "outputs": [],
   "source": [
    "# # CHECK - overlap betw the `genes.tsv` and `isoform_var_features.tsv` files\n",
    "# # Convert the 'Geneid' columns to sets\n",
    "# set1 = set(df_isoform['gene_name'])\n",
    "# set2 = set(df_isoform_var_features['x'])\n",
    "\n",
    "# # # CHECK - comment out cuz that's way too much text\n",
    "# # print('set1 = \\n', set1)\n",
    "# # print('set2 = \\n', set2)\n",
    "\n",
    "# # Find common elements\n",
    "# common_genes = set1.intersection(set2)\n",
    "# print('common_genes = \\n', common_genes)\n",
    "\n",
    "# # Get the number of common values\n",
    "# num_common = len(common_genes)\n",
    "# print(f\"Number of common values: {num_common}\")"
   ]
  },
  {
   "cell_type": "code",
   "execution_count": 46,
   "metadata": {},
   "outputs": [],
   "source": [
    "# # CHECK - extract only the unique values from `isoform_var_features.tsv` --> this shouldn't matter actually\n",
    "\n",
    "# # CHECK - split the `x` column values on the .period. and only keep the 0th element\n",
    "\n",
    "# # Keep the 0th element to create a new `gene_name` column\n",
    "# df_isoform_var_features['x_split'] = df_isoform_var_features['x'].str.split('.').str[0]\n",
    "# df_isoform_var_features.head(50)"
   ]
  },
  {
   "cell_type": "code",
   "execution_count": 47,
   "metadata": {},
   "outputs": [],
   "source": [
    "# # CHECK - overlap betw the `genes.tsv` and `isoform_var_features.tsv` files\n",
    "# # Convert the 'Geneid' columns to sets\n",
    "# set1 = set(df_isoform['gene_name'])\n",
    "# set2 = set(df_isoform_var_features['x_split'])\n",
    "\n",
    "# # # CHECK\n",
    "# # print('set1 = \\n', set1)\n",
    "# # print('set2 = \\n', set2)\n",
    "\n",
    "# # Find common elements\n",
    "# common_genes = set1.intersection(set2)\n",
    "# print('common_genes = \\n', common_genes)\n",
    "\n",
    "# # Get the number of common values\n",
    "# num_common = len(common_genes)\n",
    "# print(f\"Number of common values: {num_common}\")"
   ]
  },
  {
   "cell_type": "markdown",
   "metadata": {},
   "source": [
    "### EXPORT - `genes.tsv`"
   ]
  },
  {
   "cell_type": "code",
   "execution_count": null,
   "metadata": {},
   "outputs": [],
   "source": [
    "# NOTE: overwriting the old genes.tsv path for matrix.tsv with the matrix_isoform.tsv path\n",
    "# Define output path\n",
    "file_path_genes_tsv = os.path.join(output_isoform_dir, 'genes.tsv')\n",
    "\n",
    "# Save file as `genes.tsv`\n",
    "df_isoform_gene_id_and_gene_name.to_csv(\n",
    "    file_path_genes_tsv, \n",
    "    sep = '\\t',         # For TSV file\n",
    "    index = False,      # Remove index col???\n",
    "    header = False,     # Remove header row???\n",
    "    )\n",
    "\n",
    "print(f'Saved genes.tsv to: {file_path_genes_tsv}')"
   ]
  },
  {
   "cell_type": "code",
   "execution_count": null,
   "metadata": {},
   "outputs": [],
   "source": [
    "# RELOAD - matrix isoform file into a Pandas DF\n",
    "df_isoform_before_splitting = pd.read_csv(\n",
    "    os.path.join(output_isoform_dir, 'isoform_before_splitting.tsv'),\n",
    "    sep = '\\t',     # For TSV file\n",
    "    )\n",
    "\n",
    "df_isoform_before_splitting"
   ]
  },
  {
   "cell_type": "code",
   "execution_count": null,
   "metadata": {},
   "outputs": [],
   "source": [
    "# Select your desired cols\n",
    "df_isoform_before_splitting_gene_id = df_isoform_before_splitting[['Geneid']]\n",
    "df_isoform_before_splitting_gene_id"
   ]
  },
  {
   "cell_type": "code",
   "execution_count": null,
   "metadata": {},
   "outputs": [],
   "source": [
    "# OVERWRITE - the genes.tsv file with the original, unchanged, fused column name, but we'll just call it `Geneid`\n",
    "# Define output path\n",
    "file_path_genes_tsv = os.path.join(output_isoform_dir, 'genes.tsv')\n",
    "\n",
    "# EXPORT - Save file as `genes.tsv`\n",
    "df_isoform_before_splitting_gene_id.to_csv(\n",
    "    # os.path.join(output_isoform_dir, 'genes.tsv'), \n",
    "    file_path_genes_tsv,\n",
    "    sep = '\\t',         # For TSV file\n",
    "    index = False,      # Remove index col???\n",
    "    header = False,     # Remove header row???\n",
    "    )\n",
    "\n",
    "print(f'Saved genes.tsv to: {file_path_genes_tsv}')"
   ]
  },
  {
   "cell_type": "markdown",
   "metadata": {},
   "source": [
    "### Create the `barcodes.tsv` file\n",
    "\n",
    "- Get the 1st row of the `matrix_isoform.tsv` file\n",
    "- Drop the 1st col (ENS #s)\n",
    "- NOTE: 1st col is empty and there's no other metadata cols"
   ]
  },
  {
   "cell_type": "code",
   "execution_count": null,
   "metadata": {},
   "outputs": [],
   "source": [
    "# LOAD - matrix isoform file into a Pandas DF to get the header row only\n",
    "df_isoform_header = pd.read_csv(\n",
    "    file_path_matrix_isoform, \n",
    "    sep = '\\t',         # For TSV file\n",
    "    nrows = 1,          # Only load the 1st row (the header row)\n",
    "    header = None,      # Header begins on the 1st row\n",
    "    )\n",
    "\n",
    "df_isoform_header"
   ]
  },
  {
   "cell_type": "code",
   "execution_count": null,
   "metadata": {},
   "outputs": [],
   "source": [
    "# Drop the 1st col (the unnamed Geneid col here)\n",
    "df_isoform_header_skip = df_isoform_header.iloc[:, 1:]\n",
    "df_isoform_header_skip"
   ]
  },
  {
   "cell_type": "code",
   "execution_count": null,
   "metadata": {},
   "outputs": [],
   "source": [
    "# Convert to a 1D series\n",
    "isoform_header_series = df_isoform_header_skip.squeeze()\n",
    "isoform_header_series.head(10)"
   ]
  },
  {
   "cell_type": "code",
   "execution_count": null,
   "metadata": {},
   "outputs": [],
   "source": [
    "# Change the formatting to match examples and our data\n",
    "#* TODO - add the donor ID at a later step in Seurat instead of here (Cory suggested adding it here tho)\n",
    "isoform_header_series_mod = isoform_header_series + '-1'\n",
    "isoform_header_series_mod"
   ]
  },
  {
   "cell_type": "markdown",
   "metadata": {},
   "source": [
    "### EXPORT - `barcodes.tsv`"
   ]
  },
  {
   "cell_type": "code",
   "execution_count": null,
   "metadata": {},
   "outputs": [],
   "source": [
    "# Define output path\n",
    "file_path_barcodes_tsv = os.path.join(output_isoform_dir, 'barcodes.tsv')\n",
    "\n",
    "# Save file as `genes.tsv`\n",
    "isoform_header_series_mod.to_csv(\n",
    "    file_path_barcodes_tsv, \n",
    "    sep = '\\t',         # For TSV file\n",
    "    index = False,      # Remove index col???\n",
    "    header = False,     # Remove header row???\n",
    "    )\n",
    "\n",
    "print(f'Saved barcodes.tsv to: {file_path_barcodes_tsv}')"
   ]
  },
  {
   "cell_type": "markdown",
   "metadata": {},
   "source": [
    "### Create the `matrix.mtx` file\n",
    "\n",
    "- Import `matrix_isoform.tsv` as a DF, \n",
    "- Keep `geneid` and then all the counts cols, drop the 1st row (header row) tho\n",
    "- then convert to a sparse matrix format (needs matrix library to convert to DCG matrix)"
   ]
  },
  {
   "cell_type": "code",
   "execution_count": null,
   "metadata": {},
   "outputs": [],
   "source": [
    "# RELOAD - matrix file into a Pandas DF (but this time get rid of the header)\n",
    "df_isoform_full = pd.read_csv(\n",
    "    file_path_matrix_isoform, \n",
    "    sep = '\\t',         # For TSV file\n",
    "    skiprows = [0],     # 1st row is metadata (index = 0),\n",
    "    header = None,      # Prevents Pandas defaulting to header = True\n",
    "    )\n",
    "\n",
    "df_isoform_full.head()"
   ]
  },
  {
   "cell_type": "code",
   "execution_count": null,
   "metadata": {},
   "outputs": [],
   "source": [
    "# Use the \"full\" DF\n",
    "cols_to_drop_isoform = df_isoform_full.columns[00:1]\n",
    "print('cols_to_drop_isoform =', cols_to_drop_isoform)"
   ]
  },
  {
   "cell_type": "code",
   "execution_count": null,
   "metadata": {},
   "outputs": [],
   "source": [
    "# APPLY - Drop to those cols in the full DF\n",
    "df_isoform_full_drop = df_isoform_full.drop(cols_to_drop_isoform, axis = 1)\n",
    "df_isoform_full_drop"
   ]
  },
  {
   "cell_type": "code",
   "execution_count": null,
   "metadata": {},
   "outputs": [],
   "source": [
    "# CHECK - before and after\n",
    "df_isoform_full.info()"
   ]
  },
  {
   "cell_type": "code",
   "execution_count": null,
   "metadata": {},
   "outputs": [],
   "source": [
    "# CHECK - should have only # dtypes\n",
    "df_isoform_full_drop.info()"
   ]
  },
  {
   "cell_type": "markdown",
   "metadata": {},
   "source": [
    "### EXPORT - processed DF to `matrix_isoform_dropped.tsv` file"
   ]
  },
  {
   "cell_type": "code",
   "execution_count": null,
   "metadata": {},
   "outputs": [],
   "source": [
    "# Define output path\n",
    "file_path_matrix_isoform_dropped_tsv = os.path.join(output_isoform_dir, 'matrix_dropped.tsv')\n",
    "\n",
    "# EXPORT - save as .TSV file\n",
    "df_isoform_full_drop.to_csv(\n",
    "    file_path_matrix_isoform_dropped_tsv, \n",
    "    sep = '\\t',         # For TSV file\n",
    "    index = False,      # Remove index col???\n",
    "    header = False,     # Remove header row???\n",
    "    )\n",
    "\n",
    "print(f'Saved matrix_isoform_dropped.tsv to: {file_path_matrix_isoform_dropped_tsv}')"
   ]
  },
  {
   "cell_type": "markdown",
   "metadata": {},
   "source": [
    "# CONVERSION - function to convert the TSV file a sparse matrix .MTX file\n",
    "\n",
    "### EXPORT - `matrix.mtx` file as a sparse matrix"
   ]
  },
  {
   "cell_type": "code",
   "execution_count": null,
   "metadata": {},
   "outputs": [],
   "source": [
    "# Define output path\n",
    "output_file = os.path.join(output_isoform_dir, 'matrix.mtx')\n",
    "\n",
    "# Run conversion function\n",
    "tsv_to_mtx(file_path_matrix_isoform_dropped_tsv, output_file)\n",
    "\n",
    "# # CHECK\n",
    "# print(f'Saved matrix.mtx to: {output_file}')"
   ]
  }
 ],
 "metadata": {
  "kernelspec": {
   "display_name": "base",
   "language": "python",
   "name": "python3"
  },
  "language_info": {
   "codemirror_mode": {
    "name": "ipython",
    "version": 3
   },
   "file_extension": ".py",
   "mimetype": "text/x-python",
   "name": "python",
   "nbconvert_exporter": "python",
   "pygments_lexer": "ipython3",
   "version": "3.10.13"
  }
 },
 "nbformat": 4,
 "nbformat_minor": 2
}
